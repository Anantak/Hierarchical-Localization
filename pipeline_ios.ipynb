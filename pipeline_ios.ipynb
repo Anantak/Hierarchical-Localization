{
 "cells": [
  {
   "cell_type": "code",
   "execution_count": null,
   "metadata": {},
   "outputs": [],
   "source": [
    "%load_ext autoreload\n",
    "%autoreload 2\n",
    "\n",
    "from pathlib import Path\n",
    "from pprint import pformat\n",
    "\n",
    "from hloc import extract_features, match_features, pairs_from_retrieval, pairs_from_ios_poses\n",
    "from hloc import reconstruction, localize_sfm, visualization\n",
    "\n",
    "from hloc.visualization import plot_images, read_image\n",
    "from hloc.utils import viz_3d"
   ]
  },
  {
   "cell_type": "markdown",
   "metadata": {},
   "source": [
    "# Pipeline for ANA image data"
   ]
  },
  {
   "cell_type": "markdown",
   "metadata": {},
   "source": [
    "## Setup\n",
    "Here we declare the paths to the dataset, the reconstruction and localization outputs, and we choose the feature extractor and the matcher. "
   ]
  },
  {
   "cell_type": "code",
   "execution_count": null,
   "metadata": {},
   "outputs": [],
   "source": [
    "dataset = Path('datasets/office2/')\n",
    "images = Path('datasets/office2/frames/')\n",
    "outputs = Path('outputs/office2/')\n",
    "\n",
    "sfm_pairs = outputs / 'pairs-db-covis20.txt'  # top 20 most covisible in SIFT model\n",
    "loc_pairs = outputs / 'pairs-query-netvlad20.txt'  # top 20 retrieved by NetVLAD\n",
    "reference_sfm = outputs / 'sfm_superpoint+superglue'  # the SfM model we will build\n",
    "sfm_dir = outputs / 'sfm'\n",
    "\n",
    "# list the standard configurations available\n",
    "# print(f'Configs for feature extractors:\\n{pformat(extract_features.confs)}')\n",
    "# print(f'Configs for feature matchers:\\n{pformat(match_features.confs)}')"
   ]
  },
  {
   "cell_type": "code",
   "execution_count": null,
   "metadata": {},
   "outputs": [],
   "source": [
    "# pick one of the configurations for image retrieval, local feature extraction, and matching\n",
    "# you can also simply write your own here!\n",
    "retrieval_conf = extract_features.confs['netvlad']\n",
    "feature_conf = extract_features.confs['disk']\n",
    "matcher_conf = match_features.confs['disk+lightglue']"
   ]
  },
  {
   "cell_type": "markdown",
   "metadata": {},
   "source": [
    "## Extract local features for database and query images"
   ]
  },
  {
   "cell_type": "code",
   "execution_count": null,
   "metadata": {},
   "outputs": [],
   "source": [
    "features = extract_features.main(feature_conf, images, outputs)"
   ]
  },
  {
   "cell_type": "markdown",
   "metadata": {},
   "source": [
    "The function returns the path of the file in which all the extracted features are stored."
   ]
  },
  {
   "cell_type": "code",
   "execution_count": null,
   "metadata": {},
   "outputs": [],
   "source": [
    "# This is the file where the features were saved\n",
    "print(f'Features were exported to file: {features}')\n",
    "\n",
    "# How can we plot the exported features?\n",
    "from hloc.utils.io import list_h5_names, read_image, get_keypoints\n",
    "from hloc.utils.viz import plot_images, plot_keypoints\n",
    "\n",
    "sample_image_names_list = list_h5_names(features)\n",
    "\n",
    "sample_idx = 3\n",
    "sample_image_name = sample_image_names_list[sample_idx] #'db/1931.jpg'\n",
    "sample_image_path = images / sample_image_name\n",
    "sample_image = read_image(sample_image_path)\n",
    "sample_image_kps = get_keypoints(features, sample_image_name)\n",
    "\n",
    "plot_images([sample_image])\n",
    "plot_keypoints([sample_image_kps])\n"
   ]
  },
  {
   "cell_type": "markdown",
   "metadata": {},
   "source": [
    "## Generate pairs for the SfM reconstruction\n",
    "Instead of matching all database images exhaustively, we exploit the existing SIFT model to find which image pairs are the most covisible. We first convert the SIFT model from the NVM to the COLMAP format, and then do a covisiblity search, selecting the top 20 most covisibile neighbors for each image."
   ]
  },
  {
   "cell_type": "code",
   "execution_count": null,
   "metadata": {},
   "outputs": [],
   "source": [
    "# Define the file paths\n",
    "poses_file_path = Path.home() / 'Anantak/Pipelines/Hierarchical-Localization/datasets/office2/poses.txt'\n",
    "rotation_threshold = 15\n",
    "\n",
    "# Call the main function of your script\n",
    "pairs_from_ios_poses.main(\n",
    "    poses_file=poses_file_path,\n",
    "    output=sfm_pairs,\n",
    "    num_matched=8000,\n",
    "    rotation_threshold=rotation_threshold\n",
    ")"
   ]
  },
  {
   "cell_type": "markdown",
   "metadata": {},
   "source": [
    "## Match the database images"
   ]
  },
  {
   "cell_type": "code",
   "execution_count": null,
   "metadata": {},
   "outputs": [],
   "source": [
    "# Call the main function of match_features\n",
    "sfm_matches = match_features.main(matcher_conf, sfm_pairs, feature_conf['output'], outputs)\n",
    "print(f'sfm matches were saved in file {sfm_matches}')"
   ]
  },
  {
   "cell_type": "markdown",
   "metadata": {},
   "source": [
    "The function returns the path of the file in which all the computed matches are stored."
   ]
  },
  {
   "cell_type": "markdown",
   "metadata": {},
   "source": [
    "## Triangulate a new SfM model from the given poses\n",
    "We triangulate the sparse 3D pointcloud given the matches and the reference poses stored in the SIFT COLMAP model."
   ]
  },
  {
   "cell_type": "code",
   "execution_count": null,
   "metadata": {},
   "outputs": [],
   "source": [
    "sfm_dir = Path('/home/ubuntu/Anantak/Pipelines/Hierarchical-Localization/datasets/office2/frames/')\n",
    "images_path = Path('/home/ubuntu/Anantak/Pipelines/Hierarchical-Localization/datasets/office2/frames/')\n",
    "sfm_pairs_path = Path('/home/ubuntu/Anantak/Pipelines/Hierarchical-Localization/outputs/office2/pairs-db-covis20.txt')\n",
    "features_path = Path('/home/ubuntu/Anantak/Pipelines/Hierarchical-Localization/outputs/office2/feats-disk.h5')\n",
    "matches_path = Path('/home/ubuntu/Anantak/Pipelines/Hierarchical-Localization/outputs/office2/feats-disk_matches-disk-lightglue_pairs-db-covis20.h5')\n",
    "\n",
    "model = reconstruction.main(\n",
    "    sfm_dir=sfm_dir,\n",
    "    image_dir=images_path,\n",
    "    pairs=sfm_pairs_path,\n",
    "    features=features_path,\n",
    "    matches=matches_path\n",
    "    )"
   ]
  },
  {
   "cell_type": "code",
   "execution_count": null,
   "metadata": {},
   "outputs": [],
   "source": [
    "fig = viz_3d.init_figure()\n",
    "viz_3d.plot_reconstruction(fig, model, color='rgba(255,0,0,0.5)', name=\"mapping\", points_rgb=True)\n",
    "fig.show()"
   ]
  },
  {
   "cell_type": "markdown",
   "metadata": {},
   "source": [
    "## Find image pairs via image retrieval\n",
    "We extract global descriptors with NetVLAD and find for each image the $k$ most similar ones. A larger $k$ improves the robustness of the localization for difficult queries but makes the matching more expensive. Using $k{=}10{-}20$ is generally a good tradeoff but $k{=}50$ gives the best results for the Aachen Day-Night dataset."
   ]
  },
  {
   "cell_type": "code",
   "execution_count": null,
   "metadata": {},
   "outputs": [],
   "source": [
    "global_descriptors = extract_features.main(retrieval_conf, images, outputs)\n",
    "pairs_from_retrieval.main(global_descriptors, loc_pairs, num_matched=20, db_prefix=\"\", query_prefix=\"\")"
   ]
  },
  {
   "cell_type": "markdown",
   "metadata": {},
   "source": [
    "## Match the query images"
   ]
  },
  {
   "cell_type": "code",
   "execution_count": null,
   "metadata": {},
   "outputs": [],
   "source": [
    "loc_matches = match_features.main(matcher_conf, loc_pairs, feature_conf['output'], outputs)"
   ]
  },
  {
   "cell_type": "markdown",
   "metadata": {},
   "source": [
    "## Localize!\n",
    "Perform hierarchical localization using the precomputed retrieval and matches. The file `Aachen_hloc_superpoint+superglue_netvlad50.txt` will contain the estimated query poses. Have a look at `Aachen_hloc_superpoint+superglue_netvlad50.txt_logs.pkl` to analyze some statistics and find failure cases."
   ]
  },
  {
   "cell_type": "code",
   "execution_count": null,
   "metadata": {},
   "outputs": [],
   "source": [
    "# results = outputs / 'Aachen_hloc_superpoint+superglue_netvlad20.txt'  # the result file\n",
    "# localize_sfm.main(\n",
    "#     reconstruction,\n",
    "#     dataset / 'queries/*_time_queries_with_intrinsics.txt',\n",
    "#     loc_pairs,\n",
    "#     features,\n",
    "#     loc_matches,\n",
    "#     results,\n",
    "#     covisibility_clustering=False)  # not required with SuperPoint+SuperGlue\n",
    "\n",
    "reference_sfm = Path('datasets/office2/frames')\n",
    "queries = Path('datasets/office2/frames/query_with_intrinsics.txt')\n",
    "features = Path('outputs/office2/feats-disk.h5')\n",
    "matches = Path('outputs/office2/feats-disk_matches-disk-lightglue_pairs-query-netvlad20.h5')\n",
    "retrieval = Path('outputs/office2/pairs-query-netvlad20.txt')\n",
    "results = Path('outputs/office2/estimated_poses.txt')\n",
    "\n",
    "localize_sfm.main(\n",
    "    reference_sfm=reference_sfm,\n",
    "    queries=queries,\n",
    "    retrieval=retrieval,\n",
    "    features=features,\n",
    "    matches=matches,\n",
    "    results=results,\n",
    "    ransac_thresh=12.0,\n",
    "    covisibility_clustering=False,\n",
    "    prepend_camera_name=False\n",
    ")"
   ]
  },
  {
   "cell_type": "markdown",
   "metadata": {},
   "source": [
    "## Visualizing the SfM model\n",
    "We visualize some of the database images with their detected keypoints.\n",
    "Color the keypoints by track length: red keypoints are observed many times, blue keypoints few."
   ]
  },
  {
   "cell_type": "code",
   "execution_count": null,
   "metadata": {},
   "outputs": [],
   "source": [
    "visualization.visualize_sfm_2d(reconstruction, images, n=1, color_by='track_length')"
   ]
  },
  {
   "cell_type": "markdown",
   "metadata": {},
   "source": [
    "Color the keypoints by visibility: blue if sucessfully triangulated, red if never matched."
   ]
  },
  {
   "cell_type": "code",
   "execution_count": null,
   "metadata": {},
   "outputs": [],
   "source": [
    "visualization.visualize_sfm_2d(reconstruction, images, n=1, color_by='visibility')"
   ]
  },
  {
   "cell_type": "markdown",
   "metadata": {},
   "source": [
    "Color the keypoints by triangulated depth: red keypoints are far away, blue keypoints are closer."
   ]
  },
  {
   "cell_type": "code",
   "execution_count": null,
   "metadata": {},
   "outputs": [],
   "source": [
    "visualization.visualize_sfm_2d(reconstruction, images, n=1, color_by='depth')"
   ]
  },
  {
   "cell_type": "markdown",
   "metadata": {},
   "source": [
    "## Visualizing the localization\n",
    "We parse the localization logs and for each query image plot matches and inliers with a few database images."
   ]
  },
  {
   "cell_type": "code",
   "execution_count": null,
   "metadata": {},
   "outputs": [],
   "source": [
    "visualization.visualize_loc(\n",
    "    results, images, reconstruction, n=1, top_k_db=1, prefix='', seed=2)"
   ]
  }
 ],
 "metadata": {
  "kernelspec": {
   "display_name": "Python 3 (ipykernel)",
   "language": "python",
   "name": "python3"
  },
  "language_info": {
   "codemirror_mode": {
    "name": "ipython",
    "version": 3
   },
   "file_extension": ".py",
   "mimetype": "text/x-python",
   "name": "python",
   "nbconvert_exporter": "python",
   "pygments_lexer": "ipython3",
   "version": "3.10.12"
  }
 },
 "nbformat": 4,
 "nbformat_minor": 4
}
